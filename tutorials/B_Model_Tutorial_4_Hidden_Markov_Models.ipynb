{
 "cells": [
  {
   "cell_type": "markdown",
   "id": "70d24e61",
   "metadata": {},
   "source": [
    "### Hidden Markov Models\n",
    "\n",
    "author: Jacob Schreiber <br>\n",
    "contact: jmschreiber91@gmail.com\n",
    "\n",
    "Hidden Markov models (HMMs) are a probability distribution over sequences that are made up of two components: a set of probability distributions and a transition matrix (sometimes represented as a graph) describing how sequences can proceed through the model. HMMs are the flagship implementation in pomegranate and were the first algorithm originally implemented.\n",
    "\n",
    "HMMs are a form of structured prediction method that are popular for tagging all elements in a sequence with some \"hidden\" state. They can be thought of as extensions of Markov chains where, instead of the probability of the next observation being dependant on the current observation, the probability of the next hidden state is dependant on the current hidden state, and the next observation is derived from that hidden state. An example of this can be part of speech tagging, where the observations are words and the hidden states are parts of speech. Each word gets tagged with a part of speech, but dynamic programming is utilized to search through all potential word-tag combinations to identify the best set of tags across the entire sentence."
   ]
  },
  {
   "cell_type": "code",
   "execution_count": 1,
   "id": "d4ba80d9",
   "metadata": {},
   "outputs": [
    {
     "name": "stdout",
     "output_type": "stream",
     "text": [
      "Populating the interactive namespace from numpy and matplotlib\n",
      "numpy        : 1.23.4\n",
      "scipy        : 1.9.3\n",
      "torch        : 1.12.1\n",
      "torchegranate: 0.0.1\n",
      "\n",
      "Compiler    : GCC 11.2.0\n",
      "OS          : Linux\n",
      "Release     : 4.15.0-197-generic\n",
      "Machine     : x86_64\n",
      "Processor   : x86_64\n",
      "CPU cores   : 8\n",
      "Architecture: 64bit\n",
      "\n"
     ]
    }
   ],
   "source": [
    "%pylab inline\n",
    "import seaborn; seaborn.set_style('whitegrid')\n",
    "\n",
    "import torch\n",
    "\n",
    "from torchegranate.hmm import HiddenMarkovModel, Node\n",
    "from torchegranate.distributions import *\n",
    "\n",
    "\n",
    "numpy.random.seed(0)\n",
    "numpy.set_printoptions(suppress=True)\n",
    "\n",
    "%load_ext watermark\n",
    "%watermark -m -n -p numpy,scipy,torch,torchegranate"
   ]
  },
  {
   "cell_type": "markdown",
   "id": "c06a7df3",
   "metadata": {},
   "source": [
    "### Identification of GC-rich regions of the genome\n",
    "\n",
    "Lets take the simplified example of CG island detection on a sequence of DNA. DNA is made up of the four canonical nucleotides, abbreviated 'A', 'C', 'G', and 'T'. We can say that regions of the genome that are enriched for nucleotides 'C' and 'G' are 'CG islands', which is a simplification of the real biological concept but sufficient for our example. The issue with identifying these regions is that they are not exclusively made up of the nucleotides 'C' and 'G', but have some 'A's and 'T's scatted amongst them. A simple model that looked for long stretches of C's and G's would not perform well, because it would miss most of the real regions.\n",
    "\n",
    "We can start off by building the model. Because HMMs involve the transition matrix, which is often represented using a graph over the hidden states, building them requires a few more steps that a simple distribution or the mixture model. Our simple model will be composed of two distributions. One distribution wil be a uniform distribution across all four characters and one will have a preference for the nucleotides C and G, while still allowing the nucleotides A and T to be present."
   ]
  },
  {
   "cell_type": "code",
   "execution_count": 2,
   "id": "3770cbc1",
   "metadata": {},
   "outputs": [],
   "source": [
    "d1 = Categorical([[0.25, 0.25, 0.25, 0.25]])\n",
    "d2 = Categorical([[0.10, 0.40, 0.40, 0.10]])"
   ]
  },
  {
   "cell_type": "markdown",
   "id": "1b7b03fb",
   "metadata": {},
   "source": [
    "As we'll discuss below, there are two ways to initialize a HMM. One way is to create a series of node objects and add them, along with the edges of a graph, one at a time."
   ]
  },
  {
   "cell_type": "code",
   "execution_count": 3,
   "id": "0c649716",
   "metadata": {},
   "outputs": [],
   "source": [
    "n1 = Node(d1, \"background\")\n",
    "n2 = Node(d2, \"CG island\")"
   ]
  },
  {
   "cell_type": "markdown",
   "id": "5939f6a7",
   "metadata": {},
   "source": [
    "Now we can define the HMM and pass in states."
   ]
  },
  {
   "cell_type": "code",
   "execution_count": 4,
   "id": "2b033a88",
   "metadata": {},
   "outputs": [],
   "source": [
    "model = HiddenMarkovModel()\n",
    "model.add_nodes([n1, n2])"
   ]
  },
  {
   "cell_type": "markdown",
   "id": "99ab6ba2",
   "metadata": {},
   "source": [
    "Then we have to define the transition matrix, which is the probability of going from one hidden state to the next hidden state. In some cases, like this one, there are high self-loop probabilities, indicating that it's likely that one will stay in the same hidden state from one observation to the next in the sequence. Other cases have a lower probability of staying in the same state, like the part of speech tagger. A part of the transition matrix is the start probabilities, which is the probability of starting in each of the hidden states. Because we create these transitions one at a time, they are very amenable to sparse transition matrices, where it is impossible to transition from one hidden state to the next."
   ]
  },
  {
   "cell_type": "code",
   "execution_count": 5,
   "id": "a3a45214",
   "metadata": {},
   "outputs": [],
   "source": [
    "model.add_edge(model.start, n1, 0.5)\n",
    "model.add_edge(model.start, n2, 0.5)\n",
    "model.add_edge(n1, n1, 0.9)\n",
    "model.add_edge(n1, n2, 0.1)\n",
    "model.add_edge(n2, n1, 0.1)\n",
    "model.add_edge(n2, n2, 0.9)"
   ]
  },
  {
   "cell_type": "markdown",
   "id": "ad8c3b70",
   "metadata": {},
   "source": [
    "Now, finally, we need to bake the model in order to finalize the internal structure. Bake must be called when the model has been fully specified."
   ]
  },
  {
   "cell_type": "code",
   "execution_count": 6,
   "id": "453e2e92",
   "metadata": {},
   "outputs": [],
   "source": [
    "model.bake()"
   ]
  },
  {
   "cell_type": "markdown",
   "id": "08cc2637",
   "metadata": {},
   "source": [
    "Now we can create a sequence to run through the model. Make sure that this sequence has been converted to a numeric representation of categories. This can be done either simply, as below, or using a preprocessing tool from some other package like scikit-learn. Also, make sure that your input sequence is 3D with the three dimensions corresponding to (batch_size, sequence length, dimensionality). Here, batch_size and dimensionality are both 1. The inclusion of batch size helps significantly when processing several sequences in parallel."
   ]
  },
  {
   "cell_type": "code",
   "execution_count": 7,
   "id": "a3f465b3",
   "metadata": {},
   "outputs": [
    {
     "data": {
      "text/plain": [
       "(1, 51, 1)"
      ]
     },
     "execution_count": 7,
     "metadata": {},
     "output_type": "execute_result"
    }
   ],
   "source": [
    "sequence = 'CGACTACTGACTACTCGCCGACGCGACTGCCGTCTATACTGCGCATACGGC'\n",
    "X = numpy.array([[[['A', 'C', 'G', 'T'].index(char)] for char in sequence]])\n",
    "X.shape"
   ]
  },
  {
   "cell_type": "markdown",
   "id": "66ee1c74",
   "metadata": {},
   "source": [
    "Now we can make predictions on some sequence. Let's create some sequence that has a CG enriched region in the middle and see whether we can identify it."
   ]
  },
  {
   "cell_type": "code",
   "execution_count": 8,
   "id": "77aba624",
   "metadata": {
    "scrolled": true
   },
   "outputs": [
    {
     "name": "stdout",
     "output_type": "stream",
     "text": [
      "sequence: CGACTACTGACTACTCGCCGACGCGACTGCCGTCTATACTGCGCATACGGC\n",
      "hmm pred: 000000000000000111111111111111100000000000000001111\n"
     ]
    }
   ],
   "source": [
    "y_hat = model.predict(X)\n",
    "\n",
    "print(\"sequence: {}\".format(''.join(sequence)))\n",
    "print(\"hmm pred: {}\".format(''.join([str(y.item()) for y in y_hat[0]])))"
   ]
  },
  {
   "cell_type": "markdown",
   "id": "66fb5e21",
   "metadata": {},
   "source": [
    "It looks like it successfully identified a CG island in the middle (the long stretch of 0's) and another shorter one at the end. More importantly, the model wasn't tricked into thinking that every CG or even pair of CGs was an island. It required many C's and G's to be part of a longer stretch to identify that region as an island. Naturally, the balance of the transition and emission probabilities will heavily influence what regions are detected.\n",
    "\n",
    "Let's say, though, that we want to get rid of that CG island prediction at the end because we don't believe that real islands can occur at the end of the sequence. We can take care of this by adding in an explicit end state that only the non-island hidden state can get to. We enforce that the model has to end in the end state, and if only the non-island state gets there, the sequence of hidden states must end in the non-island state. Here's how:"
   ]
  },
  {
   "cell_type": "code",
   "execution_count": 9,
   "id": "7ac4a61d",
   "metadata": {},
   "outputs": [],
   "source": [
    "model = HiddenMarkovModel()\n",
    "model.add_nodes([n1, n2])\n",
    "model.add_edge(model.start, n1, 0.5)\n",
    "model.add_edge(model.start, n2, 0.5)\n",
    "model.add_edge(n1, n1, 0.89 )\n",
    "model.add_edge(n1, n2, 0.10 )\n",
    "model.add_edge(n1, model.end, 0.01)\n",
    "model.add_edge(n2, n1, 0.1 )\n",
    "model.add_edge(n2, n2, 0.9)\n",
    "model.bake()"
   ]
  },
  {
   "cell_type": "markdown",
   "id": "533e21a1",
   "metadata": {},
   "source": [
    "Note that all we did was add a transition from n1 to model.end with some low probability. This probability doesn't have to be high if there's only a single transition there, because there's no other possible way of getting to the end state."
   ]
  },
  {
   "cell_type": "code",
   "execution_count": 10,
   "id": "e1a4e059",
   "metadata": {},
   "outputs": [
    {
     "name": "stdout",
     "output_type": "stream",
     "text": [
      "sequence: CGACTACTGACTACTCGCCGACGCGACTGCCGTCTATACTGCGCATACGGC\n",
      "hmm pred: 000000000000000111111111111111100000000000000000000\n"
     ]
    }
   ],
   "source": [
    "y_hat = model.predict(X)\n",
    "\n",
    "print(\"sequence: {}\".format(''.join(sequence)))\n",
    "print(\"hmm pred: {}\".format(''.join([str(y.item()) for y in y_hat[0]])))"
   ]
  },
  {
   "cell_type": "markdown",
   "id": "ff42a49b",
   "metadata": {},
   "source": [
    "This seems far more reasonable. There is a single CG island surrounded by background sequence, and something at the end. If we knew that CG islands cannot occur at the end of sequences, we need only modify the underlying structure of the HMM in order to say that the sequence must end from the background state.\n",
    "\n",
    "In the same way that mixtures could provide probabilistic estimates of class assignments rather than only hard labels, hidden Markov models can do the same. These estimates are the posterior probabilities of belonging to each of the hidden states given the observation, but also given the rest of the sequence."
   ]
  },
  {
   "cell_type": "code",
   "execution_count": 11,
   "id": "d80b5c2e",
   "metadata": {},
   "outputs": [
    {
     "data": {
      "image/png": "[encoded data removed]",
      "text/plain": [
       "<Figure size 640x480 with 1 Axes>"
      ]
     },
     "metadata": {},
     "output_type": "display_data"
    }
   ],
   "source": [
    "plt.plot(model.predict_proba(X)[0], label=['background', 'CG island'])\n",
    "plt.legend()\n",
    "plt.show()"
   ]
  },
  {
   "cell_type": "markdown",
   "id": "53ce7fda",
   "metadata": {},
   "source": [
    "We can see here the transition from the first non-island region to the middle island region, with high probabilities in one column turning into high probabilities in the other column. The predict method is just taking the most likely element --- the maximum-a-posteriori estimate.\n",
    "\n",
    "In addition to using the forward-backward algorithm to just calculate posterior probabilities for each observation, we can count the number of transitions that are predicted to occur across each edge."
   ]
  },
  {
   "cell_type": "code",
   "execution_count": 12,
   "id": "cb57f555",
   "metadata": {},
   "outputs": [
    {
     "data": {
      "text/plain": [
       "tensor([28.9105,  2.4129,  2.8956, 15.7810], dtype=torch.float64)"
      ]
     },
     "execution_count": 12,
     "metadata": {},
     "output_type": "execute_result"
    }
   ],
   "source": [
    "transitions = model.forward_backward(X)[0][0]\n",
    "transitions"
   ]
  },
  {
   "cell_type": "markdown",
   "id": "0519180b",
   "metadata": {},
   "source": [
    "### Initializing Hidden Markov Models\n",
    "\n",
    "There are two ways to initialize an HMM using pomegranate. The first is to explicitly pass a list of distributions, a dense transition matrix, and optionally start and end probabilities. We can recreate the above model using this approach."
   ]
  },
  {
   "cell_type": "code",
   "execution_count": 13,
   "id": "6bd07c92",
   "metadata": {},
   "outputs": [],
   "source": [
    "model = HiddenMarkovModel([n1, n2], edges=[[0.89, 0.1], [0.1, 0.9]], starts=[0.5, 0.5], ends=[0.01, 0.0])\n",
    "model.bake()"
   ]
  },
  {
   "cell_type": "markdown",
   "id": "6adc4910",
   "metadata": {},
   "source": [
    "We can check that this initialization produces the same model by making the same plot of predicted probabilities across the sequence."
   ]
  },
  {
   "cell_type": "code",
   "execution_count": 14,
   "id": "21036aaf",
   "metadata": {},
   "outputs": [
    {
     "data": {
      "image/png": "[encoded data removed]",
      "text/plain": [
       "<Figure size 640x480 with 1 Axes>"
      ]
     },
     "metadata": {},
     "output_type": "display_data"
    }
   ],
   "source": [
    "plt.plot(model.predict_proba(X)[0], label=['background', 'CG island'])\n",
    "plt.legend()\n",
    "plt.show()"
   ]
  },
  {
   "cell_type": "markdown",
   "id": "45a110ac",
   "metadata": {},
   "source": [
    "The second way is to follow the procedure outlined above where you first create an uninitialized model with nothing passed into it and then you add the nodes and edges using the appropriate methods. This can be useful if you are creating an HMM with a sparse transition matrix and many nodes, or if you are trying to procedurally generate an HMM based on some external factors. Here is the same code as before that implements the HMM using this approach."
   ]
  },
  {
   "cell_type": "code",
   "execution_count": 15,
   "id": "63d27732",
   "metadata": {},
   "outputs": [],
   "source": [
    "model = HiddenMarkovModel()\n",
    "model.add_nodes([n1, n2])\n",
    "model.add_edge(model.start, n1, 0.5)\n",
    "model.add_edge(model.start, n2, 0.5)\n",
    "model.add_edge(n1, n1, 0.89 )\n",
    "model.add_edge(n1, n2, 0.10 )\n",
    "model.add_edge(n1, model.end, 0.01)\n",
    "model.add_edge(n2, n1, 0.1 )\n",
    "model.add_edge(n2, n2, 0.9)\n",
    "model.bake()"
   ]
  },
  {
   "cell_type": "markdown",
   "id": "40c26d2c",
   "metadata": {},
   "source": [
    "Similar to other methods, we can create an HMM with uninitialized distributions. These distributions will be initialized using k-means clustering when provided with data. We can also not pass in edges or start/end probabilities, to which these will all be initialized with uniform probabilities."
   ]
  },
  {
   "cell_type": "code",
   "execution_count": 16,
   "id": "96e650df",
   "metadata": {},
   "outputs": [
    {
     "name": "stderr",
     "output_type": "stream",
     "text": [
      "/home/jmschr/anaconda3/lib/python3.9/site-packages/torchegranate-0.0.1-py3.9.egg/torchegranate/_dense_hmm.py:23: UserWarning: To copy construct from a tensor, it is recommended to use sourceTensor.clone().detach() or sourceTensor.clone().detach().requires_grad_(True), rather than torch.tensor(sourceTensor).\n",
      "/home/jmschr/anaconda3/lib/python3.9/site-packages/torchegranate-0.0.1-py3.9.egg/torchegranate/_dense_hmm.py:24: UserWarning: To copy construct from a tensor, it is recommended to use sourceTensor.clone().detach() or sourceTensor.clone().detach().requires_grad_(True), rather than torch.tensor(sourceTensor).\n",
      "/home/jmschr/anaconda3/lib/python3.9/site-packages/torchegranate-0.0.1-py3.9.egg/torchegranate/_dense_hmm.py:25: UserWarning: To copy construct from a tensor, it is recommended to use sourceTensor.clone().detach() or sourceTensor.clone().detach().requires_grad_(True), rather than torch.tensor(sourceTensor).\n"
     ]
    },
    {
     "data": {
      "text/plain": [
       "(tensor([-0.4901, -0.9306]),\n",
       " tensor([1.2539, 0.1061]),\n",
       " tensor([-0.3370,  0.7326]))"
      ]
     },
     "execution_count": 16,
     "metadata": {},
     "output_type": "execute_result"
    }
   ],
   "source": [
    "X3 = torch.randn(100, 50, 2)\n",
    "\n",
    "model3 = HiddenMarkovModel([Normal(), Normal(), Normal()], kind='dense', verbose=True)\n",
    "model3.bake()\n",
    "\n",
    "model3._initialize(X3)\n",
    "model3.nodes[0].distribution.means, model3.nodes[1].distribution.means, model3.nodes[2].distribution.means"
   ]
  },
  {
   "cell_type": "markdown",
   "id": "d480be39",
   "metadata": {},
   "source": [
    "You can control how the k-means itself is initialized by passing in a value to `init`.\n",
    "\n",
    "However, you do not need to manually initialize your models. If you call the `fit` method or the `summarize` method, these distributions will be initialized if they have not yet been."
   ]
  },
  {
   "cell_type": "code",
   "execution_count": 17,
   "id": "c9481c5d",
   "metadata": {},
   "outputs": [
    {
     "name": "stdout",
     "output_type": "stream",
     "text": [
      "[1] Improvement: 84.92519254411673, Time: 0.01265s\n",
      "[2] Improvement: 67.9878352441865, Time: 0.04197s\n",
      "[3] Improvement: 29.982845969290793, Time: 0.009677s\n",
      "[4] Improvement: 16.392566044271007, Time: 0.008249s\n",
      "[5] Improvement: 10.134997190680224, Time: 0.01866s\n"
     ]
    },
    {
     "data": {
      "text/plain": [
       "HiddenMarkovModel(\n",
       "  (start): Node()\n",
       "  (end): Node()\n",
       "  (_model): _DenseHMM(\n",
       "    (start): Node()\n",
       "    (end): Node()\n",
       "  )\n",
       ")"
      ]
     },
     "execution_count": 17,
     "metadata": {},
     "output_type": "execute_result"
    }
   ],
   "source": [
    "X3 = torch.randn(100, 50, 2)\n",
    "\n",
    "model3 = HiddenMarkovModel([Normal(), Normal(), Normal()], kind='dense', max_iter=5, verbose=True)\n",
    "model3.bake()\n",
    "\n",
    "model3.fit(X3)"
   ]
  },
  {
   "cell_type": "markdown",
   "id": "fd93f0d6",
   "metadata": {},
   "source": [
    "#### Dense and Sparse HMMs\n",
    "\n",
    "Separately from the way that the HMM is initialized, the transition matrix can be represented using a sparse matrix or a dense matrix. Although a dense transition matrix can be pretty fast for a matrix without that many zeroes in it because the internals are implemented as a matrix multiplication, once there are enough zeroes in it the computation becomes faster to simply ignore those edges.\n",
    "\n",
    "Regardless of how you initialize the model -- meaning even if you pass in a full matrix -- you can specify which implementation you'd like to use with the `kind` parameter. If you pass in a full matrix and use `kind='sparse'`, the non-zero edges will be extracted from the given matrix. Likewise, if you specify `kind='dense'` but build the transition matrix using the methods, the internally stored list of edges gets converted to a full matrix. This makes it easy for you to compare the speed of each implementation. Both should provide the same answers, even when using a dense implementation for a transition matrix with many zeroes or a sparse implementation of a transition matrix with no zeroes.\n",
    "\n",
    "The default initialization uses a sparse transition matrix in the backend."
   ]
  },
  {
   "cell_type": "code",
   "execution_count": 18,
   "id": "c392872e",
   "metadata": {},
   "outputs": [
    {
     "data": {
      "text/plain": [
       "tensor([[0.8016, 0.1984],\n",
       "        [0.6708, 0.3292],\n",
       "        [0.6163, 0.3837],\n",
       "        [0.4196, 0.5804],\n",
       "        [0.3092, 0.6908],\n",
       "        [0.2535, 0.7465],\n",
       "        [0.2361, 0.7639]], dtype=torch.float64)"
      ]
     },
     "execution_count": 18,
     "metadata": {},
     "output_type": "execute_result"
    }
   ],
   "source": [
    "edges = [[0.89, 0.1], [0.1, 0.9]]\n",
    "starts = [0.5, 0.5]\n",
    "ends = [0.01, 0.0]\n",
    "\n",
    "model1 = HiddenMarkovModel([n1, n2], edges=edges, starts=starts, ends=ends, kind='dense')\n",
    "model1.bake()\n",
    "\n",
    "model1.predict_proba(X)[0][12:19]"
   ]
  },
  {
   "cell_type": "code",
   "execution_count": 19,
   "id": "212880ce",
   "metadata": {},
   "outputs": [
    {
     "data": {
      "text/plain": [
       "tensor([[0.8016, 0.1984],\n",
       "        [0.6708, 0.3292],\n",
       "        [0.6163, 0.3837],\n",
       "        [0.4196, 0.5804],\n",
       "        [0.3092, 0.6908],\n",
       "        [0.2535, 0.7465],\n",
       "        [0.2361, 0.7639]], dtype=torch.float64)"
      ]
     },
     "execution_count": 19,
     "metadata": {},
     "output_type": "execute_result"
    }
   ],
   "source": [
    "model2 = HiddenMarkovModel([n1, n2], edges=edges, starts=starts, ends=ends, kind='sparse')\n",
    "model2.bake()\n",
    "\n",
    "model2.predict_proba(X)[0][12:19]"
   ]
  },
  {
   "cell_type": "code",
   "execution_count": 20,
   "id": "e46f5fb3",
   "metadata": {},
   "outputs": [
    {
     "name": "stdout",
     "output_type": "stream",
     "text": [
      "113 ms ± 13.9 ms per loop (mean ± std. dev. of 7 runs, 10 loops each)\n",
      "239 ms ± 48.2 ms per loop (mean ± std. dev. of 7 runs, 1 loop each)\n"
     ]
    }
   ],
   "source": [
    "X = numpy.random.choice(4, size=(1000, 500, 1))\n",
    "\n",
    "%timeit model1.predict_proba(X)\n",
    "%timeit model2.predict_proba(X)"
   ]
  },
  {
   "cell_type": "markdown",
   "id": "b7e1c416",
   "metadata": {},
   "source": [
    "Check out the benchmarks folder to see a more thorough comparison of the two, but it looks like even for a tiny model that the dense transition matrix is around twice as fast."
   ]
  },
  {
   "cell_type": "markdown",
   "id": "4f42ef6a",
   "metadata": {},
   "source": [
    "### Fitting Hidden Markov Models\n",
    "\n",
    "Hidden Markov models are usually fit to unlabeled data using the Baum-Welch algorithm. This is a structured EM algorithm that accounts for transitions between distributions as well as the distribution parameters themselves. Essentially, one uses the forward-backward algorithm to infer the expected number of transitions across each edge and the expected probability of each observation aligning to each state and uses those estimates to update the underlying parameters."
   ]
  },
  {
   "cell_type": "code",
   "execution_count": 21,
   "id": "7ffaad1d",
   "metadata": {},
   "outputs": [
    {
     "name": "stdout",
     "output_type": "stream",
     "text": [
      "[1] Improvement: 16405.76230634225, Time: 0.1171s\n",
      "[2] Improvement: 419.1128934014123, Time: 0.1186s\n",
      "[3] Improvement: 208.4082686578622, Time: 0.1467s\n",
      "[4] Improvement: 118.25163965555839, Time: 0.1261s\n",
      "[5] Improvement: 73.40183741366491, Time: 0.1436s\n",
      "[6] Improvement: 48.75193548516836, Time: 0.117s\n",
      "[7] Improvement: 33.98372272506822, Time: 0.1508s\n",
      "[8] Improvement: 24.710323460865766, Time: 0.1942s\n",
      "[9] Improvement: 18.501670305035077, Time: 0.1363s\n",
      "[10] Improvement: 14.261804573819973, Time: 0.1267s\n",
      "[11] Improvement: 11.213328058598563, Time: 0.1417s\n",
      "[12] Improvement: 8.96379129437264, Time: 0.1099s\n",
      "[13] Improvement: 7.3336968758376315, Time: 0.1266s\n",
      "[14] Improvement: 6.00325969432015, Time: 0.133s\n",
      "[15] Improvement: 5.044057338614948, Time: 0.2043s\n",
      "[16] Improvement: 4.262814470566809, Time: 0.1415s\n",
      "[17] Improvement: 3.6413992885500193, Time: 0.1459s\n",
      "[18] Improvement: 3.129116208408959, Time: 0.1247s\n",
      "[19] Improvement: 2.6883019560482353, Time: 0.1461s\n",
      "[20] Improvement: 2.3687112852931023, Time: 0.1316s\n",
      "[21] Improvement: 2.089616525452584, Time: 0.148s\n",
      "[22] Improvement: 1.8224207774037495, Time: 0.1183s\n",
      "[23] Improvement: 1.6288394815055653, Time: 0.1964s\n",
      "[24] Improvement: 1.4303111196495593, Time: 0.1237s\n",
      "[25] Improvement: 1.3265400297241285, Time: 0.1406s\n",
      "[26] Improvement: 1.1748843027744442, Time: 0.1157s\n",
      "[27] Improvement: 1.0585524929920211, Time: 0.1385s\n",
      "[28] Improvement: 0.9588398593477905, Time: 0.1164s\n",
      "[29] Improvement: 0.878510038019158, Time: 0.1161s\n",
      "[30] Improvement: 0.7953462267760187, Time: 0.1267s\n",
      "[31] Improvement: 0.7272344350349158, Time: 0.1451s\n",
      "[32] Improvement: 0.6742368312552571, Time: 0.1265s\n",
      "[33] Improvement: 0.6038406389998272, Time: 0.1449s\n",
      "[34] Improvement: 0.5786988381296396, Time: 0.1224s\n",
      "[35] Improvement: 0.5193282867548987, Time: 0.1434s\n",
      "[36] Improvement: 0.4839166741585359, Time: 0.1257s\n",
      "[37] Improvement: 0.49035844823811203, Time: 0.132s\n",
      "[38] Improvement: 0.4106609703740105, Time: 0.1148s\n",
      "[39] Improvement: 0.4006990360794589, Time: 0.1273s\n",
      "[40] Improvement: 0.34874213917646557, Time: 0.1232s\n",
      "[41] Improvement: 0.35301401978358626, Time: 0.1366s\n",
      "[42] Improvement: 0.3472427505766973, Time: 0.1236s\n",
      "[43] Improvement: 0.2962053691735491, Time: 0.145s\n",
      "[44] Improvement: 0.2952283318154514, Time: 0.1297s\n",
      "[45] Improvement: 0.2789214764488861, Time: 0.1448s\n",
      "[46] Improvement: 0.2351783459307626, Time: 0.1164s\n",
      "[47] Improvement: 0.2694307677447796, Time: 0.1324s\n",
      "[48] Improvement: 0.20013155601918697, Time: 0.1144s\n",
      "[49] Improvement: 0.21947018092032522, Time: 0.1404s\n",
      "[50] Improvement: 0.2129089927766472, Time: 0.1251s\n",
      "[51] Improvement: 0.17770995467435569, Time: 0.1385s\n",
      "[52] Improvement: 0.21158562588971108, Time: 0.1209s\n",
      "[53] Improvement: 0.19929724535904825, Time: 0.1209s\n",
      "[54] Improvement: 0.1288569315802306, Time: 0.1161s\n",
      "[55] Improvement: 0.1727778665954247, Time: 0.2068s\n",
      "[56] Improvement: 0.17465549358166754, Time: 0.1263s\n",
      "[57] Improvement: 0.14804422098677605, Time: 0.1411s\n",
      "[58] Improvement: 0.14213877962902188, Time: 0.118s\n",
      "[59] Improvement: 0.1350202637258917, Time: 0.139s\n",
      "[60] Improvement: 0.14000210422091186, Time: 0.1191s\n",
      "[61] Improvement: 0.10974493785761297, Time: 0.1264s\n",
      "[62] Improvement: 0.12100542162079364, Time: 0.1138s\n",
      "[63] Improvement: 0.10963611176703125, Time: 0.1453s\n",
      "[64] Improvement: 0.1259889709763229, Time: 0.1259s\n",
      "[65] Improvement: 0.10899714205879718, Time: 0.1406s\n",
      "[66] Improvement: 0.11646919162012637, Time: 0.1279s\n",
      "[67] Improvement: 0.08446709637064487, Time: 0.1455s\n"
     ]
    },
    {
     "data": {
      "text/plain": [
       "HiddenMarkovModel(\n",
       "  (start): Node()\n",
       "  (end): Node()\n",
       "  (_model): _DenseHMM(\n",
       "    (start): Node()\n",
       "    (end): Node()\n",
       "  )\n",
       ")"
      ]
     },
     "execution_count": 21,
     "metadata": {},
     "output_type": "execute_result"
    }
   ],
   "source": [
    "d1 = Categorical([[0.25, 0.25, 0.25, 0.25]])\n",
    "d2 = Categorical([[0.10, 0.40, 0.40, 0.10]])\n",
    "\n",
    "edges = [[0.89, 0.1], [0.1, 0.9]]\n",
    "starts = [0.5, 0.5]\n",
    "ends = [0.01, 0.0]\n",
    "\n",
    "model = HiddenMarkovModel([d1, d2], edges=edges, starts=starts, ends=ends, kind='dense', verbose=True)\n",
    "model.bake()\n",
    "\n",
    "model.fit(X)"
   ]
  },
  {
   "cell_type": "markdown",
   "id": "d5e96225",
   "metadata": {},
   "source": [
    "We can change the number of iterations by setting either the `max_iter` parameter or the `tol` parameter."
   ]
  },
  {
   "cell_type": "code",
   "execution_count": 22,
   "id": "de6627ad",
   "metadata": {},
   "outputs": [
    {
     "name": "stdout",
     "output_type": "stream",
     "text": [
      "[1] Improvement: 16405.76230634225, Time: 0.1239s\n",
      "[2] Improvement: 419.1128934014123, Time: 0.1105s\n",
      "[3] Improvement: 208.4082686578622, Time: 0.2135s\n",
      "[4] Improvement: 118.25163965555839, Time: 0.1688s\n",
      "[5] Improvement: 73.40183741366491, Time: 0.2985s\n"
     ]
    },
    {
     "data": {
      "text/plain": [
       "HiddenMarkovModel(\n",
       "  (start): Node()\n",
       "  (end): Node()\n",
       "  (_model): _DenseHMM(\n",
       "    (start): Node()\n",
       "    (end): Node()\n",
       "  )\n",
       ")"
      ]
     },
     "execution_count": 22,
     "metadata": {},
     "output_type": "execute_result"
    }
   ],
   "source": [
    "d1 = Categorical([[0.25, 0.25, 0.25, 0.25]])\n",
    "d2 = Categorical([[0.10, 0.40, 0.40, 0.10]])\n",
    "\n",
    "edges = [[0.89, 0.1], [0.1, 0.9]]\n",
    "starts = [0.5, 0.5]\n",
    "ends = [0.01, 0.0]\n",
    "\n",
    "model = HiddenMarkovModel([d1, d2], edges=edges, starts=starts, ends=ends, max_iter=5, kind='dense', verbose=True)\n",
    "model.bake()\n",
    "\n",
    "model.fit(X)"
   ]
  },
  {
   "cell_type": "code",
   "execution_count": 23,
   "id": "66c35bdf",
   "metadata": {},
   "outputs": [
    {
     "name": "stdout",
     "output_type": "stream",
     "text": [
      "[1] Improvement: 16405.76230634225, Time: 0.131s\n",
      "[2] Improvement: 419.1128934014123, Time: 0.111s\n",
      "[3] Improvement: 208.4082686578622, Time: 0.1245s\n",
      "[4] Improvement: 118.25163965555839, Time: 0.1247s\n",
      "[5] Improvement: 73.40183741366491, Time: 0.144s\n",
      "[6] Improvement: 48.75193548516836, Time: 0.1251s\n"
     ]
    },
    {
     "data": {
      "text/plain": [
       "HiddenMarkovModel(\n",
       "  (start): Node()\n",
       "  (end): Node()\n",
       "  (_model): _DenseHMM(\n",
       "    (start): Node()\n",
       "    (end): Node()\n",
       "  )\n",
       ")"
      ]
     },
     "execution_count": 23,
     "metadata": {},
     "output_type": "execute_result"
    }
   ],
   "source": [
    "d1 = Categorical([[0.25, 0.25, 0.25, 0.25]])\n",
    "d2 = Categorical([[0.10, 0.40, 0.40, 0.10]])\n",
    "\n",
    "edges = [[0.89, 0.1], [0.1, 0.9]]\n",
    "starts = [0.5, 0.5]\n",
    "ends = [0.01, 0.0]\n",
    "\n",
    "model = HiddenMarkovModel([d1, d2], edges=edges, starts=starts, ends=ends, tol=50, kind='dense', verbose=True)\n",
    "model.bake()\n",
    "\n",
    "model.fit(X)"
   ]
  },
  {
   "cell_type": "code",
   "execution_count": null,
   "id": "915ccb6f",
   "metadata": {},
   "outputs": [],
   "source": []
  }
 ],
 "metadata": {
  "kernelspec": {
   "display_name": "Python 3 (ipykernel)",
   "language": "python",
   "name": "python3"
  },
  "language_info": {
   "codemirror_mode": {
    "name": "ipython",
    "version": 3
   },
   "file_extension": ".py",
   "mimetype": "text/x-python",
   "name": "python",
   "nbconvert_exporter": "python",
   "pygments_lexer": "ipython3",
   "version": "3.9.13"
  }
 },
 "nbformat": 4,
 "nbformat_minor": 5
}
